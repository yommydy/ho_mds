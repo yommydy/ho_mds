{
 "cells": [
  {
   "cell_type": "markdown",
   "metadata": {},
   "source": [
    "## Intro to SQLTools - DBAccess\n",
    "- A DSA python package to facilitate interaction with relational databases from python\n",
    "- Gitlab repo\n",
    "    - lunar-sql (lunar house staging)\n",
    "      http://gitlab.hodac.phz:8000/data-science/lunar-sql/blob/development/src/ho/sqltools/dbaccess.py\n",
    "    - sqltools (rhel / acp)\n",
    "- Available from Artifactory"
   ]
  },
  {
   "cell_type": "code",
   "execution_count": null,
   "metadata": {},
   "outputs": [],
   "source": [
    "# To install the package\n",
    "#\n",
    "# conda install ho_sqltools"
   ]
  },
  {
   "cell_type": "code",
   "execution_count": null,
   "metadata": {},
   "outputs": [],
   "source": [
    "# import the package\n",
    "from ho.sqltools import DBAccess\n",
    "import pandas as pd"
   ]
  },
  {
   "cell_type": "code",
   "execution_count": null,
   "metadata": {},
   "outputs": [],
   "source": [
    "# Default parameters\n",
    "\n",
    "# DBAccess(host=None, database=None, user=None, password=None,\n",
    "#          drivername='postgresql+psycopg2', port=None, reuse_connection=False)\n"
   ]
  },
  {
   "cell_type": "code",
   "execution_count": null,
   "metadata": {},
   "outputs": [],
   "source": [
    "# Database connection parameters (example is Redshift MO)\n",
    "# if user and / or password not specified this is taken from pgpass \n",
    "\n",
    "host='ma-red-andb-m01.cfbhyo4wotof.eu-west-2.redshift.amazonaws.com'\n",
    "database='aws_red_dacc'\n",
    "user='crowler'\n",
    "# password = 'your_password'\n",
    "drivername = 'redshift+pyscopg2'\n",
    "port='5432'"
   ]
  },
  {
   "cell_type": "code",
   "execution_count": null,
   "metadata": {},
   "outputs": [],
   "source": [
    "# create connection\n",
    "dba = DBAccess(host=host, database=database, user=user, drivername=drivername, reuse_connection=True)"
   ]
  },
  {
   "cell_type": "code",
   "execution_count": null,
   "metadata": {},
   "outputs": [],
   "source": [
    "dba"
   ]
  },
  {
   "cell_type": "code",
   "execution_count": null,
   "metadata": {},
   "outputs": [],
   "source": [
    "# load a table\n",
    "schema = 'sandpit_crowler'\n",
    "table = 'metrics_demo'"
   ]
  },
  {
   "cell_type": "code",
   "execution_count": null,
   "metadata": {},
   "outputs": [],
   "source": [
    "metrics = dba.load_table(table=table, schema=schema, columns='*', limit=10, order_by='metric_datetime', to='df')"
   ]
  },
  {
   "cell_type": "code",
   "execution_count": null,
   "metadata": {},
   "outputs": [],
   "source": [
    "metrics.head()"
   ]
  },
  {
   "cell_type": "code",
   "execution_count": null,
   "metadata": {},
   "outputs": [],
   "source": [
    "metrics.info()"
   ]
  },
  {
   "cell_type": "code",
   "execution_count": null,
   "metadata": {},
   "outputs": [],
   "source": [
    "# load_select\n",
    "sql = f\"\"\"select *\n",
    "          from {schema}.{table}\n",
    "          where reporting_count_1 > 5450\"\"\"\n",
    "select_metrics = dba.load_select(sql)\n",
    "select_metrics"
   ]
  },
  {
   "cell_type": "code",
   "execution_count": null,
   "metadata": {},
   "outputs": [],
   "source": [
    "# write table\n",
    "write_table_name = 'metrics_demo_write'\n",
    "dba.write_table(select_metrics, write_table_name, schema, index=False, if_exists='append')"
   ]
  },
  {
   "cell_type": "code",
   "execution_count": null,
   "metadata": {},
   "outputs": [],
   "source": [
    "# grant on table\n",
    "dba.grant_on_table(write_table_name, schema, to='crowler')"
   ]
  },
  {
   "cell_type": "code",
   "execution_count": null,
   "metadata": {},
   "outputs": [],
   "source": [
    "# check schema exists\n",
    "dba.schema_exists(schema)"
   ]
  },
  {
   "cell_type": "code",
   "execution_count": null,
   "metadata": {},
   "outputs": [],
   "source": [
    "# check table exists\n",
    "dba.check_table_exists_in_schema(write_table_name, schema)"
   ]
  },
  {
   "cell_type": "code",
   "execution_count": null,
   "metadata": {},
   "outputs": [],
   "source": [
    "dba.get_table_names_in_schema(schema)[:5]"
   ]
  },
  {
   "cell_type": "code",
   "execution_count": null,
   "metadata": {},
   "outputs": [],
   "source": [
    "# get column names\n",
    "dba.get_column_names_in_table(write_table_name, schema, sort_alphabetically=True)"
   ]
  },
  {
   "cell_type": "code",
   "execution_count": null,
   "metadata": {},
   "outputs": [],
   "source": [
    "# copy tables (to another schema), assumes you have permisions\n",
    "# your_sandpit = ''\n",
    "# dba.copy_tables(from_sandpit='sandpit_crowler', to_sandpit=your_sandpit, tables=write_table_name,\n",
    "#                replace=False)\n",
    "# dba.check_table_exists_in_schema(write_table_name, your_sandpit)"
   ]
  },
  {
   "cell_type": "code",
   "execution_count": null,
   "metadata": {},
   "outputs": [],
   "source": [
    "# drop table\n",
    "dba.drop_table(write_table_name, schema)\n",
    "dba.check_table_exists_in_schema(write_table_name, schema)"
   ]
  },
  {
   "cell_type": "code",
   "execution_count": null,
   "metadata": {},
   "outputs": [],
   "source": [
    "dba.count_num_rows(table, schema)"
   ]
  },
  {
   "cell_type": "code",
   "execution_count": null,
   "metadata": {},
   "outputs": [],
   "source": [
    "# Primary connection - use to execute any sql\n",
    "sql = f\"\"\"\n",
    "insert into {schema}.{table} (metric_datetime, reporting_count_1, reporting_count_2)\n",
    "values ('2022-12-02 12:00:00', 9999, 9999)\"\"\"\n",
    "dba.primary_connection.execute(sql)\n",
    "dba.count_num_rows(table, schema)"
   ]
  },
  {
   "cell_type": "code",
   "execution_count": null,
   "metadata": {},
   "outputs": [],
   "source": [
    "# Use with sqlalchemy\n",
    "from sqlalchemy import Table, MetaData, insert\n",
    "\n",
    "new_values = {'metric_datetime': '2022-12-02 12:00:00',\n",
    "             'reporting_count_1': 9999,\n",
    "             'reporting_count_2': 9999}\n",
    "\n",
    "metadata = MetaData(bind=dba.engine, schema=schema)\n",
    "sqlalchemy_table = Table(table, metadata, autoload_with=dba.engine)\n",
    "\n",
    "insert_statement = insert(sqlalchemy_table).values(**new_values)\n",
    "\n",
    "dba.primary_connection.execute(insert_statement)\n",
    "\n",
    "dba.count_num_rows(table, schema)"
   ]
  },
  {
   "cell_type": "code",
   "execution_count": null,
   "metadata": {},
   "outputs": [],
   "source": [
    "# Use with Pandas - Read\n",
    "sql = f\"\"\"\n",
    "select metric_datetime, reporting_count_1, reporting_count_2\n",
    "from {schema}.{table}\n",
    "order by metric_datetime desc\n",
    "limit 1\"\"\"\n",
    "df = pd.read_sql(sql, dba.primary_connection)\n",
    "df"
   ]
  },
  {
   "cell_type": "code",
   "execution_count": null,
   "metadata": {},
   "outputs": [],
   "source": [
    "# Use with Pandas - Write\n",
    "df.to_sql(table, \n",
    "          dba.primary_connection,\n",
    "          schema=schema,\n",
    "          method='multi',\n",
    "          if_exists='append',\n",
    "          index=False)\n",
    "dba.count_num_rows(table, schema)"
   ]
  },
  {
   "cell_type": "code",
   "execution_count": null,
   "metadata": {},
   "outputs": [],
   "source": [
    "# close connection\n",
    "dba.close()"
   ]
  }
 ],
 "metadata": {
  "kernelspec": {
   "display_name": "IanPythonKernel",
   "language": "python",
   "name": "ianpython"
  },
  "language_info": {
   "codemirror_mode": {
    "name": "ipython",
    "version": 3
   },
   "file_extension": ".py",
   "mimetype": "text/x-python",
   "name": "python",
   "nbconvert_exporter": "python",
   "pygments_lexer": "ipython3",
   "version": "3.6.2"
  }
 },
 "nbformat": 4,
 "nbformat_minor": 2
}
